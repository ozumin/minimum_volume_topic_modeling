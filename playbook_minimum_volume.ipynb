{
 "cells": [
  {
   "cell_type": "code",
   "execution_count": 81,
   "metadata": {},
   "outputs": [],
   "source": [
    "import numpy as np\n",
    "from numpy.random import *\n",
    "from sklearn.decomposition import PCA"
   ]
  },
  {
   "cell_type": "code",
   "execution_count": 82,
   "metadata": {},
   "outputs": [],
   "source": [
    "M = 20 # document size\n",
    "K = 5 # topics size K << V\n",
    "V = 100 # vocabulary size\n",
    "rho = 0.01\n",
    "mu = 0.01\n",
    "Theta = rand(M * K).reshape((M, K)) # topic proportions (M x K matrix)\n",
    "Beta = rand(K * V).reshape((K, V)) # topic-term matrix (K x V matrix)\n",
    "W = np.dot(Theta, Beta) # corpus (M x V matrix)"
   ]
  },
  {
   "cell_type": "code",
   "execution_count": 83,
   "metadata": {},
   "outputs": [],
   "source": [
    "pca = PCA(n_components=K)\n",
    "pca.fit(W)\n",
    "Ek = pca.components_.T # Ek is V x k matrix"
   ]
  },
  {
   "cell_type": "code",
   "execution_count": 84,
   "metadata": {},
   "outputs": [],
   "source": [
    "gamma = np.linalg.inv(np.dot(Beta, Ek))"
   ]
  },
  {
   "cell_type": "code",
   "execution_count": 85,
   "metadata": {},
   "outputs": [],
   "source": [
    "# initialize\n",
    "Wt = np.dot(W, Ek)\n",
    "V2 = gamma\n",
    "V1 = np.dot(Wt, gamma)\n",
    "Lambda1 = np.zeros(V1.shape)\n",
    "Lambda2 = np.zeros(V2.shape)"
   ]
  },
  {
   "cell_type": "code",
   "execution_count": 86,
   "metadata": {},
   "outputs": [],
   "source": [
    "C = np.eye(K) - np.dot(Wt.T, Wt)"
   ]
  },
  {
   "cell_type": "code",
   "execution_count": 87,
   "metadata": {
    "scrolled": false
   },
   "outputs": [],
   "source": [
    "# calculate the projected document"
   ]
  },
  {
   "cell_type": "code",
   "execution_count": 96,
   "metadata": {},
   "outputs": [],
   "source": [
    "eta0 = 0.01"
   ]
  },
  {
   "cell_type": "code",
   "execution_count": 132,
   "metadata": {},
   "outputs": [
    {
     "data": {
      "text/plain": [
       "'\\ntmp1 = np.linalg.norm(y - np.dot(Wt, gamma) - Lambda1 / rho) / 2\\n    print(tmp1)\\n    tmp2 = (x - y) * (y - rho * abs(np.dot(Wt, gamma)))\\n    print(tmp2)\\n    tmp3 = abs((x - y) ** 2) / (2 * eta)\\n    print(tmp3)\\n    return tmp1 + tmp2 + tmp3\\n'"
      ]
     },
     "execution_count": 132,
     "metadata": {},
     "output_type": "execute_result"
    }
   ],
   "source": [
    "'''\n",
    "tmp1 = np.linalg.norm(y - np.dot(Wt, gamma) - Lambda1 / rho) / 2\n",
    "    print(tmp1)\n",
    "    tmp2 = (x - y) * (y - rho * abs(np.dot(Wt, gamma)))\n",
    "    print(tmp2)\n",
    "    tmp3 = abs((x - y) ** 2) / (2 * eta)\n",
    "    print(tmp3)\n",
    "    return tmp1 + tmp2 + tmp3\n",
    "'''"
   ]
  },
  {
   "cell_type": "code",
   "execution_count": 133,
   "metadata": {},
   "outputs": [],
   "source": [
    "def func_soft_threshold(x, y, Wt, gamma, eta, Lambda1, rho, mu):\n",
    "    if np.dot(Wt, gamma) * rho + Lambda1 >= mu:\n",
    "        return (mu - rho * np.dot(Wt, gamma) + Lambda1) / rho\n",
    "    elif np.dot(Wt, gamma) * rho + Lambda1 <= mu:\n",
    "        return (mu + rho * np.dot(Wt, gamma) + Lambda1) / rho\n",
    "    else:\n",
    "        return 0"
   ]
  },
  {
   "cell_type": "code",
   "execution_count": null,
   "metadata": {},
   "outputs": [],
   "source": [
    "def func_"
   ]
  },
  {
   "cell_type": "code",
   "execution_count": 129,
   "metadata": {},
   "outputs": [],
   "source": [
    "def func_f(x, Wt, gamma, Lambda1, rho):\n",
    "    return np.linalg.norm(V1 - np.dot(Wt, gamma) / rho - gamma / rho) / 2"
   ]
  },
  {
   "cell_type": "code",
   "execution_count": 130,
   "metadata": {},
   "outputs": [
    {
     "ename": "SyntaxError",
     "evalue": "invalid syntax (<ipython-input-130-1929a6b0baf4>, line 5)",
     "output_type": "error",
     "traceback": [
      "\u001b[0;36m  File \u001b[0;32m\"<ipython-input-130-1929a6b0baf4>\"\u001b[0;36m, line \u001b[0;32m5\u001b[0m\n\u001b[0;31m    x =\u001b[0m\n\u001b[0m        ^\u001b[0m\n\u001b[0;31mSyntaxError\u001b[0m\u001b[0;31m:\u001b[0m invalid syntax\n"
     ]
    }
   ],
   "source": [
    "def proxymal_gradient(x, y, Wt, gamma, eta0, Lambda1, rho, K, b):\n",
    "    eta = eta0\n",
    "    for k in range(K):\n",
    "        while True:\n",
    "            x = \n",
    "            if func_f(x, Wt, gamma, Lambda1, rho) <= func_f_eta(x, y, Wt, gamma, eta, Lambda1, rho):\n",
    "                break\n",
    "            else:\n",
    "                eta *= b"
   ]
  },
  {
   "cell_type": "code",
   "execution_count": null,
   "metadata": {},
   "outputs": [],
   "source": []
  }
 ],
 "metadata": {
  "kernelspec": {
   "display_name": "Python 3",
   "language": "python",
   "name": "python3"
  },
  "language_info": {
   "codemirror_mode": {
    "name": "ipython",
    "version": 3
   },
   "file_extension": ".py",
   "mimetype": "text/x-python",
   "name": "python",
   "nbconvert_exporter": "python",
   "pygments_lexer": "ipython3",
   "version": "3.6.8"
  }
 },
 "nbformat": 4,
 "nbformat_minor": 2
}
